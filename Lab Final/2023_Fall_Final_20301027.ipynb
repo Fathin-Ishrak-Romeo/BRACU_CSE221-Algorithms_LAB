{
  "nbformat": 4,
  "nbformat_minor": 0,
  "metadata": {
    "colab": {
      "provenance": []
    },
    "kernelspec": {
      "name": "python3",
      "display_name": "Python 3"
    },
    "language_info": {
      "name": "python"
    }
  },
  "cells": [
    {
      "cell_type": "code",
      "execution_count": null,
      "metadata": {
        "id": "zV9fgnpRDMxF"
      },
      "outputs": [],
      "source": [
        "import sys\n",
        "from collections import deque\n",
        "\n",
        "def shortest_paths(graph, start):\n",
        "    queue = deque([(start, [start])])\n",
        "    visited = set([start])\n",
        "\n",
        "    while queue:\n",
        "        current, path = queue.popleft()\n",
        "\n",
        "        for neighbor in graph[current]:\n",
        "            if neighbor not in visited:\n",
        "                visited.add(neighbor)\n",
        "                queue.append((neighbor, path + [neighbor]))\n",
        "\n",
        "    return path if len(path) > 1 else -1\n",
        "\n",
        "def main():\n",
        "    with open(\"input.txt\", \"r\") as infile:\n",
        "        V, E, S = map(int, infile.readline().split())\n",
        "        graph = {i: [] for i in range(V)}\n",
        "\n",
        "        for _ in range(E):\n",
        "            X, Y = map(int, infile.readline().split())\n",
        "            graph[X].append(Y)\n",
        "            graph[Y].append(X)\n",
        "\n",
        "    with open(\"output.txt\", \"w\") as outfile:\n",
        "        for vertex in range(V):\n",
        "            result = shortest_paths(graph, S)\n",
        "            outfile.write(\" \".join(map(str, result)) + \"\\n\")\n",
        "\n",
        "if __name__ == \"_main_\":\n",
        "    main()"
      ]
    }
  ]
}